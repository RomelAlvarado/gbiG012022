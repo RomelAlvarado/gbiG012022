{
  "nbformat": 4,
  "nbformat_minor": 0,
  "metadata": {
    "colab": {
      "name": "Clase6_intro_python.ipynb",
      "provenance": [],
      "authorship_tag": "ABX9TyMlw1Vp5du5k83pzMkM2f3l",
      "include_colab_link": true
    },
    "kernelspec": {
      "name": "python3",
      "display_name": "Python 3"
    },
    "language_info": {
      "name": "python"
    }
  },
  "cells": [
    {
      "cell_type": "markdown",
      "metadata": {
        "id": "view-in-github",
        "colab_type": "text"
      },
      "source": [
        "<a href=\"https://colab.research.google.com/github/RomelAlvarado/gbiG012022/blob/main/Clase6_intro_python.ipynb\" target=\"_parent\"><img src=\"https://colab.research.google.com/assets/colab-badge.svg\" alt=\"Open In Colab\"/></a>"
      ]
    },
    {
      "cell_type": "markdown",
      "source": [
        "#BIOINFORMATICA\n",
        "\n",
        "##CLASE 6: Introduccion a Python\n",
        "\n",
        "En esta clase vamos a revisar los siguientes contenidos:\n",
        "\n",
        "1.   Historia de Python\n",
        "2.   Tipos de datos\n",
        "3.   Operaciones con numeros\n",
        "4.   Operaciones con texto\n",
        "\n",
        "#1.   Historia de Python\n",
        "\n",
        "La historia de Python se puede leer en la página web: [Python Doc](https://www.python.org/doc/)\n",
        "\n",
        "\n",
        "\n",
        "\n",
        "\n",
        "\n"
      ],
      "metadata": {
        "id": "_HdxC5eDx0ka"
      }
    },
    {
      "cell_type": "markdown",
      "source": [
        "#2. TIPOS DE DATOS\n",
        "\n",
        "* Numéricos: enteros(),  \n",
        "* Lógicos: Verdadero (TRUE T), FALSO(FALSE F)\n",
        "* Texto: cadena de caracteres: 'Siempre entre comillas'\n",
        "\n",
        "\n",
        "\n",
        "\n"
      ],
      "metadata": {
        "id": "DrL_ov4Y0ab_"
      }
    },
    {
      "cell_type": "markdown",
      "source": [
        "#Operaciones con numeros"
      ],
      "metadata": {
        "id": "rzU2vCBW8I2-"
      }
    },
    {
      "cell_type": "code",
      "execution_count": 22,
      "metadata": {
        "id": "W4BsgTVxw7Ka"
      },
      "outputs": [],
      "source": [
        "gen1_r = 1.5\n",
        "gen1_h = 1.7\n",
        "dif_gen1 = gen1_r - gen1_h\n",
        "ratio_gen1 = gen1_r / gen1_h"
      ]
    },
    {
      "cell_type": "code",
      "source": [
        ""
      ],
      "metadata": {
        "id": "co5fbk4m8MLq"
      },
      "execution_count": null,
      "outputs": []
    },
    {
      "cell_type": "code",
      "source": [
        "print(\"gen1_r:\", gen1_r)\n",
        "print(\"gen1_h:\", gen1_h)\n",
        "print(\"dif_gen1:\", dif_gen1)\n",
        "print(\"ratio_gen1:\", ratio_gen1)"
      ],
      "metadata": {
        "colab": {
          "base_uri": "https://localhost:8080/"
        },
        "id": "6gkfgehv5zAq",
        "outputId": "5dd05c06-6573-4c59-8b35-70b8e7081d0f"
      },
      "execution_count": 26,
      "outputs": [
        {
          "output_type": "stream",
          "name": "stdout",
          "text": [
            "gen1_r: 1.5\n",
            "gen1_h: 1.7\n",
            "dif_gen1: -0.19999999999999996\n",
            "ratio_gen1: 0.8823529411764706\n"
          ]
        }
      ]
    },
    {
      "cell_type": "markdown",
      "source": [
        "#Operaraciones con texto"
      ],
      "metadata": {
        "id": "kcEVg-3F7vxN"
      }
    },
    {
      "cell_type": "code",
      "source": [
        "saludo = \"hola con todos, que bueno que no hay examen\"\n",
        "saludo.upper()"
      ],
      "metadata": {
        "colab": {
          "base_uri": "https://localhost:8080/",
          "height": 35
        },
        "id": "qmbyqWFG71AN",
        "outputId": "f28fa7bb-306b-41aa-8712-375f0ba66fa8"
      },
      "execution_count": 36,
      "outputs": [
        {
          "output_type": "execute_result",
          "data": {
            "text/plain": [
              "'HOLA CON TODOS, QUE BUENO QUE NO HAY EXAMEN'"
            ],
            "application/vnd.google.colaboratory.intrinsic+json": {
              "type": "string"
            }
          },
          "metadata": {},
          "execution_count": 36
        }
      ]
    },
    {
      "cell_type": "code",
      "source": [
        "len(saludo)"
      ],
      "metadata": {
        "colab": {
          "base_uri": "https://localhost:8080/"
        },
        "id": "ew-zBiF29MtU",
        "outputId": "a5386f24-629b-4bc3-c1bc-822b2eb50f2c"
      },
      "execution_count": 37,
      "outputs": [
        {
          "output_type": "execute_result",
          "data": {
            "text/plain": [
              "43"
            ]
          },
          "metadata": {},
          "execution_count": 37
        }
      ]
    },
    {
      "cell_type": "code",
      "source": [
        "# En este codigo se revisa el uso combinado de funciones\n",
        "total = len(saludo)\n",
        "char_a = saludo.count(\"a\")\n",
        "ratio_a = char_a / total\n",
        "print(\"Porcentaje de a:\", ratio_a)"
      ],
      "metadata": {
        "colab": {
          "base_uri": "https://localhost:8080/"
        },
        "id": "-5htCODT-LeF",
        "outputId": "f586249e-2152-4435-c152-0772449c9560"
      },
      "execution_count": 40,
      "outputs": [
        {
          "output_type": "stream",
          "name": "stdout",
          "text": [
            "Porcentaje de a: 0.06976744186046512\n"
          ]
        }
      ]
    },
    {
      "cell_type": "markdown",
      "source": [
        "#Porcentaje de GC\n",
        "Calcular el porcentaje de contenido de nucleotidos G y C en la siguiente secuencia"
      ],
      "metadata": {
        "id": "xTtc1MXg_dvn"
      }
    },
    {
      "cell_type": "code",
      "source": [
        "p53_l1 = \"TTCCTGGNCTGTAGGTAGCGACTACAGTTAGGGGGCACCTAGCATTCAGGCCCTCATCCTCCTCCTTCCCAGCAGGGTGTCACGCTTCTCCGAAGACTGGATGACTGCCATGGAGGAGTCACAGTCGGATATCAGCCTCGAGCTCCCTCTGAGCCAGGAGACATTTTCAGGCTTATGGAAACTACTTCCTCCAGAAGATATCCTGCCATC\""
      ],
      "metadata": {
        "id": "wctjH1K2_rS4"
      },
      "execution_count": 113,
      "outputs": []
    },
    {
      "cell_type": "code",
      "source": [
        "# PORCENTAJE DE G Y C\n",
        "NGC = ((p53_l1.count(\"G\") + p53_l1.count(\"C\")) / len(p53_l1)) * 100\n",
        "print(\"Porcentaje de G y C:\", NGC )"
      ],
      "metadata": {
        "colab": {
          "base_uri": "https://localhost:8080/"
        },
        "id": "iH1dmwxDBUnK",
        "outputId": "6256ee58-f116-4eea-9f20-218c3ad9355c"
      },
      "execution_count": 114,
      "outputs": [
        {
          "output_type": "stream",
          "name": "stdout",
          "text": [
            "Porcentaje de G y C: 54.285714285714285\n"
          ]
        }
      ]
    },
    {
      "cell_type": "code",
      "source": [
        "#Subconjunto\n",
        "print(p53_l1)\n",
        "fi = p53_l1.find(\"TAC\")\n",
        "ff1 = p53_l1.find(\"ATT\")\n",
        "ff2 = p53_l1.find(\"ATC\")\n",
        "ff3 = p53_l1.find(\"ACT\")"
      ],
      "metadata": {
        "colab": {
          "base_uri": "https://localhost:8080/"
        },
        "id": "u2_-GfPPL-_6",
        "outputId": "613dbe84-0408-48d6-de28-3e1d6233bd08"
      },
      "execution_count": 115,
      "outputs": [
        {
          "output_type": "stream",
          "name": "stdout",
          "text": [
            "TTCCTGGNCTGTAGGTAGCGACTACAGTTAGGGGGCACCTAGCATTCAGGCCCTCATCCTCCTCCTTCCCAGCAGGGTGTCACGCTTCTCCGAAGACTGGATGACTGCCATGGAGGAGTCACAGTCGGATATCAGCCTCGAGCTCCCTCTGAGCCAGGAGACATTTTCAGGCTTATGGAAACTACTTCCTCCAGAAGATATCCTGCCATC\n"
          ]
        }
      ]
    },
    {
      "cell_type": "code",
      "source": [
        "ff3"
      ],
      "metadata": {
        "colab": {
          "base_uri": "https://localhost:8080/"
        },
        "id": "i1SJnL9PN7GP",
        "outputId": "405aa079-588e-4171-8d16-02a3681abc8b"
      },
      "execution_count": 116,
      "outputs": [
        {
          "output_type": "execute_result",
          "data": {
            "text/plain": [
              "20"
            ]
          },
          "metadata": {},
          "execution_count": 116
        }
      ]
    },
    {
      "cell_type": "code",
      "source": [
        "p53_l1[3:6]"
      ],
      "metadata": {
        "colab": {
          "base_uri": "https://localhost:8080/",
          "height": 35
        },
        "id": "1jubYk3IOaZh",
        "outputId": "f38303b0-4207-43f7-95fd-5a0c9a60ee6d"
      },
      "execution_count": 117,
      "outputs": [
        {
          "output_type": "execute_result",
          "data": {
            "text/plain": [
              "'CTG'"
            ],
            "application/vnd.google.colaboratory.intrinsic+json": {
              "type": "string"
            }
          },
          "metadata": {},
          "execution_count": 117
        }
      ]
    },
    {
      "cell_type": "code",
      "source": [
        "mRNA_f1 = p53_l1[fi:ff1+3]\n",
        "mRNA_f1"
      ],
      "metadata": {
        "colab": {
          "base_uri": "https://localhost:8080/",
          "height": 35
        },
        "id": "8dHVE4YdP5H5",
        "outputId": "ae649ac1-b8e1-4525-ec63-b9a51f6a32fc"
      },
      "execution_count": 118,
      "outputs": [
        {
          "output_type": "execute_result",
          "data": {
            "text/plain": [
              "'TACAGTTAGGGGGCACCTAGCATT'"
            ],
            "application/vnd.google.colaboratory.intrinsic+json": {
              "type": "string"
            }
          },
          "metadata": {},
          "execution_count": 118
        }
      ]
    },
    {
      "cell_type": "code",
      "source": [
        "#Cadena Complementaria\n",
        "print(saludo)\n",
        "saludo.replace(\"o\",\"e\")"
      ],
      "metadata": {
        "colab": {
          "base_uri": "https://localhost:8080/",
          "height": 53
        },
        "id": "7CCOs3dDQ0fN",
        "outputId": "11b0a043-e99c-42e6-f099-0c58355b8307"
      },
      "execution_count": 119,
      "outputs": [
        {
          "output_type": "stream",
          "name": "stdout",
          "text": [
            "hola con todos, que bueno que no hay examen\n"
          ]
        },
        {
          "output_type": "execute_result",
          "data": {
            "text/plain": [
              "'hela cen tedes, que buene que ne hay examen'"
            ],
            "application/vnd.google.colaboratory.intrinsic+json": {
              "type": "string"
            }
          },
          "metadata": {},
          "execution_count": 119
        }
      ]
    },
    {
      "cell_type": "code",
      "source": [
        "p53_a = p53_l1.replace(\"A\",\"t\")\n",
        "p53_t = p53_a.replace(\"T\",\"a\")\n",
        "p53_g = p53_t.replace(\"G\",\"c\")\n",
        "p53_c = p53_g.replace(\"C\",\"g\")\n",
        "p53_l1c = p53_c.upper()\n",
        "p53_l1c"
      ],
      "metadata": {
        "colab": {
          "base_uri": "https://localhost:8080/",
          "height": 53
        },
        "id": "zLMJh4pnRtpB",
        "outputId": "13d478ba-e996-458c-d12f-9ac23782963a"
      },
      "execution_count": 120,
      "outputs": [
        {
          "output_type": "execute_result",
          "data": {
            "text/plain": [
              "'AAGGACCNGACATCCATCGCTGATGTCAATCCCCCGTGGATCGTAAGTCCGGGAGTAGGAGGAGGAAGGGTCGTCCCACAGTGCGAAGAGGCTTCTGACCTACTGACGGTACCTCCTCAGTGTCAGCCTATAGTCGGAGCTCGAGGGAGACTCGGTCCTCTGTAAAAGTCCGAATACCTTTGATGAAGGAGGTCTTCTATAGGACGGTAG'"
            ],
            "application/vnd.google.colaboratory.intrinsic+json": {
              "type": "string"
            }
          },
          "metadata": {},
          "execution_count": 120
        }
      ]
    },
    {
      "cell_type": "code",
      "source": [
        "print(p53_l1)\n",
        "print(p53_l1c)"
      ],
      "metadata": {
        "colab": {
          "base_uri": "https://localhost:8080/"
        },
        "id": "_Okd2fQ-Tyop",
        "outputId": "bd03edb9-2a95-4da0-c17d-5c6bf382c6f4"
      },
      "execution_count": 121,
      "outputs": [
        {
          "output_type": "stream",
          "name": "stdout",
          "text": [
            "TTCCTGGNCTGTAGGTAGCGACTACAGTTAGGGGGCACCTAGCATTCAGGCCCTCATCCTCCTCCTTCCCAGCAGGGTGTCACGCTTCTCCGAAGACTGGATGACTGCCATGGAGGAGTCACAGTCGGATATCAGCCTCGAGCTCCCTCTGAGCCAGGAGACATTTTCAGGCTTATGGAAACTACTTCCTCCAGAAGATATCCTGCCATC\n",
            "AAGGACCNGACATCCATCGCTGATGTCAATCCCCCGTGGATCGTAAGTCCGGGAGTAGGAGGAGGAAGGGTCGTCCCACAGTGCGAAGAGGCTTCTGACCTACTGACGGTACCTCCTCAGTGTCAGCCTATAGTCGGAGCTCGAGGGAGACTCGGTCCTCTGTAAAAGTCCGAATACCTTTGATGAAGGAGGTCTTCTATAGGACGGTAG\n"
          ]
        }
      ]
    },
    {
      "cell_type": "code",
      "source": [
        "p53_l1c_r = p53_l1c[::-1]\n",
        "print(p53_l1)\n",
        "print(p53_l1c)\n",
        "print(p53_l1c_r)"
      ],
      "metadata": {
        "colab": {
          "base_uri": "https://localhost:8080/"
        },
        "id": "yZdO9t7pUfaj",
        "outputId": "bb125c94-ea69-4ad6-abed-c381d66c6b8f"
      },
      "execution_count": 122,
      "outputs": [
        {
          "output_type": "stream",
          "name": "stdout",
          "text": [
            "TTCCTGGNCTGTAGGTAGCGACTACAGTTAGGGGGCACCTAGCATTCAGGCCCTCATCCTCCTCCTTCCCAGCAGGGTGTCACGCTTCTCCGAAGACTGGATGACTGCCATGGAGGAGTCACAGTCGGATATCAGCCTCGAGCTCCCTCTGAGCCAGGAGACATTTTCAGGCTTATGGAAACTACTTCCTCCAGAAGATATCCTGCCATC\n",
            "AAGGACCNGACATCCATCGCTGATGTCAATCCCCCGTGGATCGTAAGTCCGGGAGTAGGAGGAGGAAGGGTCGTCCCACAGTGCGAAGAGGCTTCTGACCTACTGACGGTACCTCCTCAGTGTCAGCCTATAGTCGGAGCTCGAGGGAGACTCGGTCCTCTGTAAAAGTCCGAATACCTTTGATGAAGGAGGTCTTCTATAGGACGGTAG\n",
            "GATGGCAGGATATCTTCTGGAGGAAGTAGTTTCCATAAGCCTGAAAATGTCTCCTGGCTCAGAGGGAGCTCGAGGCTGATATCCGACTGTGACTCCTCCATGGCAGTCATCCAGTCTTCGGAGAAGCGTGACACCCTGCTGGGAAGGAGGAGGATGAGGGCCTGAATGCTAGGTGCCCCCTAACTGTAGTCGCTACCTACAGNCCAGGAA\n"
          ]
        }
      ]
    },
    {
      "cell_type": "code",
      "source": [
        "fi_r = p53_l1c_r.find(\"TAC\")\n",
        "ff1_r = p53_l1c_r.find(\"ATT\")\n",
        "ff2_r = p53_l1c_r.find(\"ATC\")\n",
        "ff3_r = p53_l1c_r.find(\"ACT\")\n",
        "ff3_r"
      ],
      "metadata": {
        "colab": {
          "base_uri": "https://localhost:8080/"
        },
        "id": "ieEkPxrXWlMx",
        "outputId": "2840b945-b3c5-4eaf-e4e9-e5cc00523c30"
      },
      "execution_count": 125,
      "outputs": [
        {
          "output_type": "execute_result",
          "data": {
            "text/plain": [
              "85"
            ]
          },
          "metadata": {},
          "execution_count": 125
        }
      ]
    }
  ]
}